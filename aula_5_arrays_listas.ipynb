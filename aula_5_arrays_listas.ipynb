{
 "cells": [
  {
   "cell_type": "code",
   "execution_count": 15,
   "id": "8b29173e",
   "metadata": {},
   "outputs": [],
   "source": [
    "#Criação de Listas\n",
    "\n",
    "lista_1 = [1, 'a', 2.3]\n",
    "b = [1, 2, 3, 4, 5, 6]"
   ]
  },
  {
   "cell_type": "code",
   "execution_count": 27,
   "id": "9dcf75fd",
   "metadata": {},
   "outputs": [
    {
     "name": "stdout",
     "output_type": "stream",
     "text": [
      "[1, 'a', 2.3]\n",
      "Essa é a lista b: [1, 2, 3, 4, 5, 6]\n"
     ]
    }
   ],
   "source": [
    "print(lista_1)\n",
    "print(\"Essa é a lista b:\",b)"
   ]
  },
  {
   "cell_type": "code",
   "execution_count": 14,
   "id": "6b2d8d93",
   "metadata": {
    "scrolled": true
   },
   "outputs": [
    {
     "data": {
      "text/plain": [
       "1"
      ]
     },
     "execution_count": 14,
     "metadata": {},
     "output_type": "execute_result"
    }
   ],
   "source": [
    "#Ver o 1º elemento\n",
    "lista_1[0]"
   ]
  },
  {
   "cell_type": "code",
   "execution_count": 28,
   "id": "2d1b2967",
   "metadata": {},
   "outputs": [
    {
     "name": "stdout",
     "output_type": "stream",
     "text": [
      "1\n"
     ]
    }
   ],
   "source": [
    "#Printar elemento da lista\n",
    "print(b[0])"
   ]
  },
  {
   "cell_type": "code",
   "execution_count": 29,
   "id": "41f5c08e",
   "metadata": {},
   "outputs": [
    {
     "name": "stdout",
     "output_type": "stream",
     "text": [
      "15\n"
     ]
    }
   ],
   "source": [
    "#Modificando elemento da lista\n",
    "b[2]=15\n",
    "print(b[2])"
   ]
  },
  {
   "cell_type": "markdown",
   "id": "30b690d4",
   "metadata": {},
   "source": [
    "## Ordenação de Listas"
   ]
  },
  {
   "cell_type": "code",
   "execution_count": 40,
   "id": "df7f5834",
   "metadata": {},
   "outputs": [
    {
     "name": "stdout",
     "output_type": "stream",
     "text": [
      "[1, 2, 15, 4, 5, 6] \n",
      " [1, 2, 4, 5, 6, 15]\n"
     ]
    }
   ],
   "source": [
    "#Ordenando b\n",
    "\n",
    "c = sorted(b)\n",
    "print(b,\"\\n\",c) ###Por que espaço após \\n?###"
   ]
  },
  {
   "cell_type": "code",
   "execution_count": 43,
   "id": "1f78d1ac",
   "metadata": {},
   "outputs": [
    {
     "name": "stdout",
     "output_type": "stream",
     "text": [
      "None\n"
     ]
    }
   ],
   "source": [
    "#Usando o método sort\n",
    "d = b.sort()\n",
    "print(d) #Sort n cria novo objeto, logo tem que printar b"
   ]
  },
  {
   "cell_type": "code",
   "execution_count": 44,
   "id": "6a9ce12c",
   "metadata": {},
   "outputs": [
    {
     "name": "stdout",
     "output_type": "stream",
     "text": [
      "[1, 2, 4, 5, 6, 15]\n"
     ]
    }
   ],
   "source": [
    "print(b)"
   ]
  },
  {
   "cell_type": "code",
   "execution_count": 47,
   "id": "ac790daf",
   "metadata": {},
   "outputs": [
    {
     "name": "stdout",
     "output_type": "stream",
     "text": [
      "None\n"
     ]
    }
   ],
   "source": [
    "#Nova lista\n",
    "e = [2,13,6,1,9]\n",
    "print(e.sort()) #Não vai funcionar, pois sort armazena no objeto, não dá pra printar a função"
   ]
  },
  {
   "cell_type": "code",
   "execution_count": 48,
   "id": "e7a6d39e",
   "metadata": {},
   "outputs": [
    {
     "name": "stdout",
     "output_type": "stream",
     "text": [
      "[1, 2, 6, 9, 13]\n"
     ]
    }
   ],
   "source": [
    "print(e)"
   ]
  },
  {
   "cell_type": "code",
   "execution_count": null,
   "id": "24760677",
   "metadata": {},
   "outputs": [],
   "source": []
  },
  {
   "cell_type": "code",
   "execution_count": null,
   "id": "397ce868",
   "metadata": {},
   "outputs": [],
   "source": []
  }
 ],
 "metadata": {
  "kernelspec": {
   "display_name": "Python 3 (ipykernel)",
   "language": "python",
   "name": "python3"
  },
  "language_info": {
   "codemirror_mode": {
    "name": "ipython",
    "version": 3
   },
   "file_extension": ".py",
   "mimetype": "text/x-python",
   "name": "python",
   "nbconvert_exporter": "python",
   "pygments_lexer": "ipython3",
   "version": "3.10.9"
  }
 },
 "nbformat": 4,
 "nbformat_minor": 5
}
